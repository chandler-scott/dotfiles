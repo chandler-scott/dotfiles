{
 "cells": [
  {
   "attachments": {},
   "cell_type": "markdown",
   "metadata": {},
   "source": [
    "<div style=\"color: #FFC72C; text-align: center; border-top: 1px solid #A2AAAD; border-bottom: 1px solid #A2AAAD;\">\n",
    "    <h1 style=\"color: #A2AAAD; margin: 50px auto 0; font-size: 60px;\">Data Analysis</h1>\n",
    "    <p style=\"color: #A2AAAD; margin: 0px; font-size: 20px;\">Federated Deep Reinforced Learning to enable CH Selection in a IoV</p>\n",
    "    <p style=\"color: #A2AAAD; margin: 0px auto 50px; font-size: 20px;\">Chandler Scott</p>\n",
    "</div>"
   ]
  },
  {
   "attachments": {},
   "cell_type": "markdown",
   "metadata": {},
   "source": [
    "<div style=\"color: #FFC72C; text-align: center; border-top: 1px solid #A2AAAD; border-bottom: 1px solid #A2AAAD;\">\n",
    "    <h3 style=\"color: #A2AAAD; margin: 50px auto;\">Convert .sca file to a .csv</h3>\n",
    "</div>"
   ]
  },
  {
   "cell_type": "code",
   "execution_count": 1,
   "metadata": {},
   "outputs": [
    {
     "name": "stdout",
     "output_type": "stream",
     "text": [
      "Exported 652 scalars, 3049 parameters, 9 statistics, 81 histograms\n"
     ]
    }
   ],
   "source": [
    "import os\n",
    "sca_file = 'General-#0.sca'\n",
    "output_file = 'Results_4-17.csv'\n",
    "results_filepath = '/opt/smart_farm_network_sim/smart_farm/simulations/results'\n",
    "\n",
    "run_command = lambda: \\\n",
    "    f'opp_scavetool x {results_filepath}/{sca_file} -o {results_filepath}/{output_file}'\n",
    "\n",
    "!{run_command()}"
   ]
  },
  {
   "attachments": {},
   "cell_type": "markdown",
   "metadata": {},
   "source": [
    "<div style=\"color: #FFC72C; text-align: center; border-top: 1px solid #A2AAAD; border-bottom: 1px solid #A2AAAD;\">\n",
    "    <h3 style=\"color: #A2AAAD; margin: 50px auto;\">Read .csv into Pandas dataframe and clean data</h3>\n",
    "</div>"
   ]
  },
  {
   "cell_type": "code",
   "execution_count": 2,
   "metadata": {},
   "outputs": [
    {
     "data": {
      "text/html": [
       "<div>\n",
       "<style scoped>\n",
       "    .dataframe tbody tr th:only-of-type {\n",
       "        vertical-align: middle;\n",
       "    }\n",
       "\n",
       "    .dataframe tbody tr th {\n",
       "        vertical-align: top;\n",
       "    }\n",
       "\n",
       "    .dataframe thead th {\n",
       "        text-align: right;\n",
       "    }\n",
       "</style>\n",
       "<table border=\"1\" class=\"dataframe\">\n",
       "  <thead>\n",
       "    <tr style=\"text-align: right;\">\n",
       "      <th></th>\n",
       "      <th>name</th>\n",
       "      <th>module</th>\n",
       "      <th>value</th>\n",
       "    </tr>\n",
       "  </thead>\n",
       "  <tbody>\n",
       "    <tr>\n",
       "      <th>202</th>\n",
       "      <td>numRetry</td>\n",
       "      <td>farm_network.server.wlan[0].mac</td>\n",
       "      <td>0</td>\n",
       "    </tr>\n",
       "    <tr>\n",
       "      <th>206</th>\n",
       "      <td>numSent</td>\n",
       "      <td>farm_network.server.wlan[0].mac</td>\n",
       "      <td>1144</td>\n",
       "    </tr>\n",
       "    <tr>\n",
       "      <th>533</th>\n",
       "      <td>numRetry</td>\n",
       "      <td>farm_network.sensor[0].wlan[0].mac</td>\n",
       "      <td>26</td>\n",
       "    </tr>\n",
       "    <tr>\n",
       "      <th>537</th>\n",
       "      <td>numSent</td>\n",
       "      <td>farm_network.sensor[0].wlan[0].mac</td>\n",
       "      <td>143</td>\n",
       "    </tr>\n",
       "    <tr>\n",
       "      <th>864</th>\n",
       "      <td>numRetry</td>\n",
       "      <td>farm_network.sensor[1].wlan[0].mac</td>\n",
       "      <td>16</td>\n",
       "    </tr>\n",
       "    <tr>\n",
       "      <th>868</th>\n",
       "      <td>numSent</td>\n",
       "      <td>farm_network.sensor[1].wlan[0].mac</td>\n",
       "      <td>143</td>\n",
       "    </tr>\n",
       "    <tr>\n",
       "      <th>1195</th>\n",
       "      <td>numRetry</td>\n",
       "      <td>farm_network.sensor[2].wlan[0].mac</td>\n",
       "      <td>24</td>\n",
       "    </tr>\n",
       "    <tr>\n",
       "      <th>1199</th>\n",
       "      <td>numSent</td>\n",
       "      <td>farm_network.sensor[2].wlan[0].mac</td>\n",
       "      <td>143</td>\n",
       "    </tr>\n",
       "    <tr>\n",
       "      <th>1526</th>\n",
       "      <td>numRetry</td>\n",
       "      <td>farm_network.sensor[3].wlan[0].mac</td>\n",
       "      <td>34</td>\n",
       "    </tr>\n",
       "    <tr>\n",
       "      <th>1530</th>\n",
       "      <td>numSent</td>\n",
       "      <td>farm_network.sensor[3].wlan[0].mac</td>\n",
       "      <td>143</td>\n",
       "    </tr>\n",
       "    <tr>\n",
       "      <th>1857</th>\n",
       "      <td>numRetry</td>\n",
       "      <td>farm_network.sensor[4].wlan[0].mac</td>\n",
       "      <td>10</td>\n",
       "    </tr>\n",
       "    <tr>\n",
       "      <th>1861</th>\n",
       "      <td>numSent</td>\n",
       "      <td>farm_network.sensor[4].wlan[0].mac</td>\n",
       "      <td>143</td>\n",
       "    </tr>\n",
       "    <tr>\n",
       "      <th>2188</th>\n",
       "      <td>numRetry</td>\n",
       "      <td>farm_network.sensor[5].wlan[0].mac</td>\n",
       "      <td>0</td>\n",
       "    </tr>\n",
       "    <tr>\n",
       "      <th>2192</th>\n",
       "      <td>numSent</td>\n",
       "      <td>farm_network.sensor[5].wlan[0].mac</td>\n",
       "      <td>143</td>\n",
       "    </tr>\n",
       "    <tr>\n",
       "      <th>2519</th>\n",
       "      <td>numRetry</td>\n",
       "      <td>farm_network.sensor[6].wlan[0].mac</td>\n",
       "      <td>6</td>\n",
       "    </tr>\n",
       "    <tr>\n",
       "      <th>2523</th>\n",
       "      <td>numSent</td>\n",
       "      <td>farm_network.sensor[6].wlan[0].mac</td>\n",
       "      <td>143</td>\n",
       "    </tr>\n",
       "    <tr>\n",
       "      <th>2850</th>\n",
       "      <td>numRetry</td>\n",
       "      <td>farm_network.sensor[7].wlan[0].mac</td>\n",
       "      <td>16</td>\n",
       "    </tr>\n",
       "    <tr>\n",
       "      <th>2854</th>\n",
       "      <td>numSent</td>\n",
       "      <td>farm_network.sensor[7].wlan[0].mac</td>\n",
       "      <td>143</td>\n",
       "    </tr>\n",
       "  </tbody>\n",
       "</table>\n",
       "</div>"
      ],
      "text/plain": [
       "          name                              module value\n",
       "202   numRetry     farm_network.server.wlan[0].mac     0\n",
       "206    numSent     farm_network.server.wlan[0].mac  1144\n",
       "533   numRetry  farm_network.sensor[0].wlan[0].mac    26\n",
       "537    numSent  farm_network.sensor[0].wlan[0].mac   143\n",
       "864   numRetry  farm_network.sensor[1].wlan[0].mac    16\n",
       "868    numSent  farm_network.sensor[1].wlan[0].mac   143\n",
       "1195  numRetry  farm_network.sensor[2].wlan[0].mac    24\n",
       "1199   numSent  farm_network.sensor[2].wlan[0].mac   143\n",
       "1526  numRetry  farm_network.sensor[3].wlan[0].mac    34\n",
       "1530   numSent  farm_network.sensor[3].wlan[0].mac   143\n",
       "1857  numRetry  farm_network.sensor[4].wlan[0].mac    10\n",
       "1861   numSent  farm_network.sensor[4].wlan[0].mac   143\n",
       "2188  numRetry  farm_network.sensor[5].wlan[0].mac     0\n",
       "2192   numSent  farm_network.sensor[5].wlan[0].mac   143\n",
       "2519  numRetry  farm_network.sensor[6].wlan[0].mac     6\n",
       "2523   numSent  farm_network.sensor[6].wlan[0].mac   143\n",
       "2850  numRetry  farm_network.sensor[7].wlan[0].mac    16\n",
       "2854   numSent  farm_network.sensor[7].wlan[0].mac   143"
      ]
     },
     "execution_count": 2,
     "metadata": {},
     "output_type": "execute_result"
    }
   ],
   "source": [
    "import pandas as pd\n",
    "\n",
    "csv_file = f'{results_filepath}/Results_4-17.csv'\n",
    "df = pd.read_csv(csv_file, low_memory=False)\n",
    "\n",
    "\n",
    "df = df.loc[(df['type'] == 'scalar'), ['name', 'module', 'value']]\n",
    "\n",
    "df = df[df['name'].isin(['numSent', 'numRetry'])]\n",
    "df"
   ]
  },
  {
   "attachments": {},
   "cell_type": "markdown",
   "metadata": {},
   "source": [
    "<div style=\"color: #FFC72C; text-align: center; border-top: 1px solid #A2AAAD; border-bottom: 1px solid #A2AAAD;\">\n",
    "    <h3 style=\"color: #A2AAAD; margin: 50px auto;\">Plot charts from dataframe</h3>\n",
    "</div>"
   ]
  },
  {
   "cell_type": "code",
   "execution_count": 8,
   "metadata": {},
   "outputs": [
    {
     "name": "stdout",
     "output_type": "stream",
     "text": [
      "name                                numRetry  numSent\n",
      "module                                               \n",
      "farm_network.sensor[0].wlan[0].mac        26      143\n",
      "farm_network.sensor[1].wlan[0].mac        16      143\n",
      "farm_network.sensor[2].wlan[0].mac        24      143\n",
      "farm_network.sensor[3].wlan[0].mac        34      143\n",
      "farm_network.sensor[4].wlan[0].mac        10      143\n",
      "name\n",
      "numRetry    int64\n",
      "numSent     int64\n",
      "dtype: object\n"
     ]
    }
   ],
   "source": [
    "import matplotlib.pyplot as plt\n",
    "import numpy as np\n",
    "\n",
    "pivot_df = df.pivot_table(index='module', columns='name', values='value', aggfunc='sum')\n",
    "pivot_df = pivot_df.astype(int)\n",
    "\n",
    "\n"
   ]
  }
 ],
 "metadata": {
  "kernelspec": {
   "display_name": "Python 3",
   "language": "python",
   "name": "python3"
  },
  "language_info": {
   "codemirror_mode": {
    "name": "ipython",
    "version": 3
   },
   "file_extension": ".py",
   "mimetype": "text/x-python",
   "name": "python",
   "nbconvert_exporter": "python",
   "pygments_lexer": "ipython3",
   "version": "3.8.10"
  },
  "orig_nbformat": 4
 },
 "nbformat": 4,
 "nbformat_minor": 2
}
